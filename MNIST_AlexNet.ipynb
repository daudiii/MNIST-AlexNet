{
  "nbformat": 4,
  "nbformat_minor": 0,
  "metadata": {
    "colab": {
      "name": "MNIST LeNet.ipynb",
      "version": "0.3.2",
      "provenance": [],
      "collapsed_sections": []
    },
    "language_info": {
      "codemirror_mode": {
        "name": "ipython",
        "version": 3
      },
      "file_extension": ".py",
      "mimetype": "text/x-python",
      "name": "python",
      "nbconvert_exporter": "python",
      "pygments_lexer": "ipython3",
      "version": "3.6.6"
    },
    "kernelspec": {
      "display_name": "Python 3",
      "language": "python",
      "name": "python3"
    }
  },
  "cells": [
    {
      "cell_type": "code",
      "metadata": {
        "id": "VeXLLbFcq8CA",
        "colab_type": "code",
        "colab": {}
      },
      "source": [
        "%matplotlib inline"
      ],
      "execution_count": 0,
      "outputs": []
    },
    {
      "cell_type": "code",
      "metadata": {
        "id": "BbYdrb_wq8CM",
        "colab_type": "code",
        "colab": {}
      },
      "source": [
        "import torch\n",
        "import torchvision\n",
        "import torchvision.transforms as transforms"
      ],
      "execution_count": 0,
      "outputs": []
    },
    {
      "cell_type": "code",
      "metadata": {
        "id": "rDiniPD1q8CS",
        "colab_type": "code",
        "colab": {}
      },
      "source": [
        "transform = transforms.Compose(\n",
        "    [transforms.ToTensor()])\n",
        "\n",
        "trainset = torchvision.datasets.MNIST(root='./data', train=True,\n",
        "                                        download=True, transform=transform)\n",
        "trainloader = torch.utils.data.DataLoader(trainset, batch_size=100,\n",
        "                                          shuffle=True, num_workers=2)\n",
        "\n",
        "testset = torchvision.datasets.MNIST(root='./data', train=False,\n",
        "                                       download=True, transform=transform)\n",
        "testloader = torch.utils.data.DataLoader(testset, batch_size=400,\n",
        "                                         shuffle=False, num_workers=2)\n",
        "\n",
        "classes = ('0', '1', '2', '3', '4', '5', '6', '7', '8', '9')"
      ],
      "execution_count": 0,
      "outputs": []
    },
    {
      "cell_type": "code",
      "metadata": {
        "id": "4V52GZUiq8CZ",
        "colab_type": "code",
        "outputId": "b6e5e8c7-27b6-400e-be07-01383ef5d3ca",
        "colab": {
          "base_uri": "https://localhost:8080/",
          "height": 322
        }
      },
      "source": [
        "import matplotlib.pyplot as plt\n",
        "import numpy as np\n",
        "\n",
        "# functions to show an image\n",
        "\n",
        "\n",
        "def imshow(img):\n",
        "    print(img.shape)\n",
        "    npimg = img.numpy()\n",
        "    plt.imshow(np.transpose(npimg, (1, 2, 0)), cmap=\"gray\")\n",
        "    plt.show()\n",
        "\n",
        "\n",
        "# get some random training images\n",
        "dataiter = iter(trainloader)\n",
        "images, labels = dataiter.next()\n",
        "\n",
        "# show images\n",
        "imshow(torchvision.utils.make_grid(images))\n",
        "# print labels\n",
        "print(' '.join('%5s' % classes[labels[j]] for j in range(100)))"
      ],
      "execution_count": 0,
      "outputs": [
        {
          "output_type": "stream",
          "text": [
            "torch.Size([3, 392, 242])\n"
          ],
          "name": "stdout"
        },
        {
          "output_type": "display_data",
          "data": {
            "image/png": "[encoded data removed]",
            "text/plain": [
              "<Figure size 432x288 with 1 Axes>"
            ]
          },
          "metadata": {
            "tags": []
          }
        },
        {
          "output_type": "stream",
          "text": [
            "    3     6     8     5     4     9     0     2     5     9     4     7     5     1     4     0     2     3     1     5     2     9     3     4     9     8     8     4     1     8     3     8     5     4     3     6     2     6     2     2     4     6     1     3     1     6     1     9     8     1     7     6     3     5     9     8     8     1     3     8     1     7     9     2     4     0     7     7     2     0     0     5     0     9     3     2     8     8     1     7     5     7     3     6     8     1     4     9     9     3     5     7     4     2     1     8     1     9     9     9\n"
          ],
          "name": "stdout"
        }
      ]
    },
    {
      "cell_type": "code",
      "metadata": {
        "id": "RL2H46Evq8Cf",
        "colab_type": "code",
        "colab": {}
      },
      "source": [
        "import torch.nn as nn\n",
        "import torch.nn.functional as F\n",
        "\n",
        "\n",
        "class LeNet(nn.Module):\n",
        "    def __init__(self):\n",
        "        super(LeNet, self).__init__()\n",
        "        self.conv1 = nn.Conv2d(1, 6, 5, padding=2)\n",
        "        self.relu = nn.ReLU()\n",
        "        self.pool = nn.MaxPool2d(2, 2)\n",
        "        self.conv2 = nn.Conv2d(6, 16, 5)\n",
        "        self.fc1 = nn.Linear(16 * 5*5, 120)\n",
        "        self.fc2 = nn.Linear(120, 100)\n",
        "        self.fc3 = nn.Linear(100, 10)\n",
        "        self.smax = nn.Softmax()\n",
        "\n",
        "    def forward(self, x):\n",
        "        x = self.pool(self.relu(self.conv1(x)))\n",
        "        x = self.pool(self.relu(self.conv2(x)))\n",
        "        x = x.view(-1, 16 * 5 * 5)\n",
        "        x = self.relu(self.fc1(x))\n",
        "        x = self.relu(self.fc2(x))\n",
        "        x = self.fc3(x)\n",
        "        x = self.smax(x)\n",
        "        return x\n",
        "\n",
        "\n",
        "model = LeNet()"
      ],
      "execution_count": 0,
      "outputs": []
    },
    {
      "cell_type": "code",
      "metadata": {
        "id": "MLvPLb0sq8Cm",
        "colab_type": "code",
        "colab": {}
      },
      "source": [
        "import torch.optim as optim\n",
        "criterion = nn.CrossEntropyLoss()\n",
        "optimizer = torch.optim.Adam(model.parameters(),lr=0.003)"
      ],
      "execution_count": 0,
      "outputs": []
    },
    {
      "cell_type": "code",
      "metadata": {
        "id": "wVa_8kRaq8Ct",
        "colab_type": "code",
        "outputId": "f82ac255-0191-416e-8095-4adde856d21e",
        "colab": {
          "base_uri": "https://localhost:8080/",
          "height": 322
        }
      },
      "source": [
        "for epoch in range(5):\n",
        "  running_loss = 0.0\n",
        "  i=0;\n",
        "  for x,y in trainloader:\n",
        "    output=model(x)\n",
        "    loss=criterion(output,y)\n",
        "    optimizer.zero_grad()\n",
        "    loss.backward()\n",
        "    optimizer.step()\n",
        "    \n",
        "    running_loss += loss.item()\n",
        "    if i % 200 == 199:    # print every 200 mini-batches\n",
        "      print('[%d, %5d] loss: %.3f' %\n",
        "      (epoch + 1, i + 1, running_loss / 199))\n",
        "      running_loss = 0.0\n",
        "            \n",
        "    i=i+1\n",
        "print('Finished Training')\n",
        "\n"
      ],
      "execution_count": 0,
      "outputs": [
        {
          "output_type": "stream",
          "text": [
            "/usr/local/lib/python3.6/dist-packages/ipykernel_launcher.py:24: UserWarning: Implicit dimension choice for softmax has been deprecated. Change the call to include dim=X as an argument.\n"
          ],
          "name": "stderr"
        },
        {
          "output_type": "stream",
          "text": [
            "[1,   200] loss: 1.762\n",
            "[1,   400] loss: 1.587\n",
            "[1,   600] loss: 1.516\n",
            "[2,   200] loss: 1.511\n",
            "[2,   400] loss: 1.506\n",
            "[2,   600] loss: 1.501\n",
            "[3,   200] loss: 1.498\n",
            "[3,   400] loss: 1.499\n",
            "[3,   600] loss: 1.498\n",
            "[4,   200] loss: 1.496\n",
            "[4,   400] loss: 1.496\n",
            "[4,   600] loss: 1.497\n",
            "[5,   200] loss: 1.495\n",
            "[5,   400] loss: 1.494\n",
            "[5,   600] loss: 1.494\n",
            "Finished Training\n"
          ],
          "name": "stdout"
        }
      ]
    },
    {
      "cell_type": "markdown",
      "metadata": {
        "id": "Mkt6Wa0wq8C4",
        "colab_type": "text"
      },
      "source": [
        "**Testing...**\n",
        "\n"
      ]
    },
    {
      "cell_type": "code",
      "metadata": {
        "id": "XeqxI83Mq8C6",
        "colab_type": "code",
        "outputId": "3ebdc402-7ef4-41ad-fe06-8569b506f29a",
        "colab": {
          "base_uri": "https://localhost:8080/",
          "height": 322
        }
      },
      "source": [
        "dataiter = iter(testloader)\n",
        "images, labels = dataiter.next()\n",
        "\n",
        "# print images\n",
        "imshow(torchvision.utils.make_grid(images))\n",
        "print('GroundTruth: ', ' '.join('%5s' % classes[labels[j]] for j in range(400)))"
      ],
      "execution_count": 0,
      "outputs": [
        {
          "output_type": "stream",
          "text": [
            "torch.Size([3, 1502, 242])\n"
          ],
          "name": "stdout"
        },
        {
          "output_type": "display_data",
          "data": {
            "image/png": "[encoded data removed]",
            "text/plain": [
              "<Figure size 432x288 with 1 Axes>"
            ]
          },
          "metadata": {
            "tags": []
          }
        },
        {
          "output_type": "stream",
          "text": [
            "GroundTruth:      7     2     1     0     4     1     4     9     5     9     0     6     9     0     1     5     9     7     3     4     9     6     6     5     4     0     7     4     0     1     3     1     3     4     7     2     7     1     2     1     1     7     4     2     3     5     1     2     4     4     6     3     5     5     6     0     4     1     9     5     7     8     9     3     7     4     6     4     3     0     7     0     2     9     1     7     3     2     9     7     7     6     2     7     8     4     7     3     6     1     3     6     9     3     1     4     1     7     6     9     6     0     5     4     9     9     2     1     9     4     8     7     3     9     7     4     4     4     9     2     5     4     7     6     7     9     0     5     8     5     6     6     5     7     8     1     0     1     6     4     6     7     3     1     7     1     8     2     0     2     9     9     5     5     1     5     6     0     3     4     4     6     5     4     6     5     4     5     1     4     4     7     2     3     2     7     1     8     1     8     1     8     5     0     8     9     2     5     0     1     1     1     0     9     0     3     1     6     4     2     3     6     1     1     1     3     9     5     2     9     4     5     9     3     9     0     3     6     5     5     7     2     2     7     1     2     8     4     1     7     3     3     8     8     7     9     2     2     4     1     5     9     8     7     2     3     0     4     4     2     4     1     9     5     7     7     2     8     2     6     8     5     7     7     9     1     8     1     8     0     3     0     1     9     9     4     1     8     2     1     2     9     7     5     9     2     6     4     1     5     8     2     9     2     0     4     0     0     2     8     4     7     1     2     4     0     2     7     4     3     3     0     0     3     1     9     6     5     2     5     9     2     9     3     0     4     2     0     7     1     1     2     1     5     3     3     9     7     8     6     5     6     1     3     8     1     0     5     1     3     1     5     5     6     1     8     5     1     7     9     4     6     2     2     5     0     6     5     6     3     7     2     0     8     8     5     4     1     1     4     0     3     3     7     6     1     6     2     1     9     2     8     6     1     9     5     2     5     4     4\n"
          ],
          "name": "stdout"
        }
      ]
    },
    {
      "cell_type": "code",
      "metadata": {
        "id": "Zj9kVGI8q8DE",
        "colab_type": "code",
        "outputId": "a16dc5c8-4637-400e-dc34-63bd90d206c8",
        "colab": {
          "base_uri": "https://localhost:8080/",
          "height": 54
        }
      },
      "source": [
        "outputs = model(images)"
      ],
      "execution_count": 0,
      "outputs": [
        {
          "output_type": "stream",
          "text": [
            "/usr/local/lib/python3.6/dist-packages/ipykernel_launcher.py:24: UserWarning: Implicit dimension choice for softmax has been deprecated. Change the call to include dim=X as an argument.\n"
          ],
          "name": "stderr"
        }
      ]
    },
    {
      "cell_type": "code",
      "metadata": {
        "id": "afXXCA6Cq8DL",
        "colab_type": "code",
        "outputId": "a3072bea-6064-4d00-82f2-75ad5d94c447",
        "colab": {
          "base_uri": "https://localhost:8080/",
          "height": 54
        }
      },
      "source": [
        "_, predicted = torch.max(outputs, 1)\n",
        "\n",
        "print('Predicted: ', ' '.join('%5s' % classes[predicted[j]]\n",
        "                              for j in range(400)))"
      ],
      "execution_count": 0,
      "outputs": [
        {
          "output_type": "stream",
          "text": [
            "Predicted:      7     2     1     0     4     1     4     9     5     9     0     6     9     0     1     5     9     7     8     4     9     6     6     5     4     0     7     4     0     1     3     1     3     4     7     2     7     1     2     1     1     7     4     2     3     5     1     2     4     4     6     3     5     5     6     0     4     1     9     5     7     8     9     3     7     4     6     4     3     0     7     0     2     9     1     7     3     2     9     7     7     6     2     7     8     4     7     3     6     1     3     6     9     3     1     4     1     7     6     9     6     0     5     4     9     9     2     1     9     4     8     7     3     9     7     4     4     4     9     2     5     4     7     6     4     9     0     5     8     5     6     6     5     7     8     1     0     1     6     4     6     7     3     1     7     1     8     2     0     4     9     8     5     5     1     5     6     0     3     4     4     6     5     4     6     5     4     5     1     4     4     7     2     3     2     7     1     8     1     8     1     8     5     0     8     9     2     5     0     1     1     1     0     9     0     3     1     6     4     2     3     6     1     1     1     3     9     5     2     9     4     5     9     3     9     0     3     6     5     5     7     2     2     7     1     2     8     4     1     7     3     3     8     8     7     9     2     2     4     1     5     8     8     7     2     3     0     4     4     2     4     1     9     5     7     7     2     8     2     0     8     5     7     7     9     1     8     1     8     0     3     0     1     9     9     4     1     8     2     1     2     9     7     5     9     2     6     4     1     5     8     2     9     2     0     4     0     0     2     8     4     7     1     2     4     0     2     7     4     3     3     0     0     3     1     9     6     5     2     5     9     7     9     3     0     4     1     0     7     1     1     2     1     5     3     3     9     7     8     6     3     6     1     3     8     1     0     5     1     3     1     5     5     6     1     8     5     1     4     4     4     6     2     2     5     0     6     5     6     3     7     2     0     8     8     5     4     1     1     4     0     3     3     7     6     1     6     2     1     9     2     8     6     1     9     5     2     5     4     4\n"
          ],
          "name": "stdout"
        }
      ]
    },
    {
      "cell_type": "code",
      "metadata": {
        "id": "LnU94796q8DS",
        "colab_type": "code",
        "outputId": "276dda23-53b0-414c-9af2-9545a2cb636a",
        "colab": {
          "base_uri": "https://localhost:8080/",
          "height": 70
        }
      },
      "source": [
        "correct = 0\n",
        "total = 0\n",
        "with torch.no_grad():\n",
        "    for data in testloader:\n",
        "        images, labels = data\n",
        "        outputs = model(images)\n",
        "        _, predicted = torch.max(outputs.data, 1)\n",
        "        total += labels.size(0)\n",
        "        correct += (predicted == labels).sum().item()\n",
        "\n",
        "print('Accuracy of the network on the 10000 test images: %d %%' % (\n",
        "    100 * correct / total))"
      ],
      "execution_count": 0,
      "outputs": [
        {
          "output_type": "stream",
          "text": [
            "/usr/local/lib/python3.6/dist-packages/ipykernel_launcher.py:24: UserWarning: Implicit dimension choice for softmax has been deprecated. Change the call to include dim=X as an argument.\n"
          ],
          "name": "stderr"
        },
        {
          "output_type": "stream",
          "text": [
            "Accuracy of the network on the 10000 test images: 97 %\n"
          ],
          "name": "stdout"
        }
      ]
    },
    {
      "cell_type": "code",
      "metadata": {
        "id": "4ZoGRHZ0q8DY",
        "colab_type": "code",
        "outputId": "d5b058f4-11dc-4bc4-d8a9-3b8b3b142b8b",
        "colab": {
          "base_uri": "https://localhost:8080/",
          "height": 222
        }
      },
      "source": [
        "class_correct = list(0. for i in range(10))\n",
        "class_total = list(0. for i in range(10))\n",
        "with torch.no_grad():\n",
        "    for data in testloader:\n",
        "        images, labels = data\n",
        "        outputs = model(images)\n",
        "        _, predicted = torch.max(outputs, 1)\n",
        "        c = (predicted == labels).squeeze()\n",
        "        for i in range(400):\n",
        "            label = labels[i]\n",
        "            class_correct[label] += c[i].item()\n",
        "            class_total[label] += 1\n",
        "\n",
        "\n",
        "for i in range(10):\n",
        "    print('Accuracy of %5s : %2d %%' % (\n",
        "        classes[i], 100 * class_correct[i] / class_total[i]))"
      ],
      "execution_count": 0,
      "outputs": [
        {
          "output_type": "stream",
          "text": [
            "/usr/local/lib/python3.6/dist-packages/ipykernel_launcher.py:24: UserWarning: Implicit dimension choice for softmax has been deprecated. Change the call to include dim=X as an argument.\n"
          ],
          "name": "stderr"
        },
        {
          "output_type": "stream",
          "text": [
            "Accuracy of     0 : 99 %\n",
            "Accuracy of     1 : 99 %\n",
            "Accuracy of     2 : 95 %\n",
            "Accuracy of     3 : 97 %\n",
            "Accuracy of     4 : 99 %\n",
            "Accuracy of     5 : 95 %\n",
            "Accuracy of     6 : 97 %\n",
            "Accuracy of     7 : 96 %\n",
            "Accuracy of     8 : 98 %\n",
            "Accuracy of     9 : 95 %\n"
          ],
          "name": "stdout"
        }
      ]
    },
    {
      "cell_type": "code",
      "metadata": {
        "id": "JMuZDFcTmIhP",
        "colab_type": "code",
        "colab": {}
      },
      "source": [
        ""
      ],
      "execution_count": 0,
      "outputs": []
    }
  ]
}