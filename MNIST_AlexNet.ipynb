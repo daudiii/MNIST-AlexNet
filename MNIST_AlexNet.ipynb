{
  "nbformat": 4,
  "nbformat_minor": 0,
  "metadata": {
    "colab": {
      "name": "MNIST AlexNet.ipynb",
      "version": "0.3.2",
      "provenance": [],
      "collapsed_sections": [],
      "include_colab_link": true
    },
    "language_info": {
      "codemirror_mode": {
        "name": "ipython",
        "version": 3
      },
      "file_extension": ".py",
      "mimetype": "text/x-python",
      "name": "python",
      "nbconvert_exporter": "python",
      "pygments_lexer": "ipython3",
      "version": "3.6.6"
    },
    "kernelspec": {
      "name": "python3",
      "display_name": "Python 3"
    },
    "accelerator": "GPU"
  },
  "cells": [
    {
      "cell_type": "markdown",
      "metadata": {
        "id": "view-in-github",
        "colab_type": "text"
      },
      "source": [
        "<a href=\"https://colab.research.google.com/github/daudiii/MNIST-AlexNet/blob/master/MNIST_AlexNet.ipynb\" target=\"_parent\"><img src=\"https://colab.research.google.com/assets/colab-badge.svg\" alt=\"Open In Colab\"/></a>"
      ]
    },
    {
      "cell_type": "code",
      "metadata": {
        "id": "VeXLLbFcq8CA",
        "colab_type": "code",
        "colab": {}
      },
      "source": [
        "%matplotlib inline"
      ],
      "execution_count": 0,
      "outputs": []
    },
    {
      "cell_type": "code",
      "metadata": {
        "id": "BbYdrb_wq8CM",
        "colab_type": "code",
        "outputId": "e0aca3d1-a257-4a34-fcdf-559a4deef25d",
        "colab": {
          "base_uri": "https://localhost:8080/",
          "height": 34
        }
      },
      "source": [
        "import torch\n",
        "import torchvision\n",
        "import torchvision.transforms as transforms\n",
        "print(torch.cuda.is_available())"
      ],
      "execution_count": 2,
      "outputs": [
        {
          "output_type": "stream",
          "text": [
            "True\n"
          ],
          "name": "stdout"
        }
      ]
    },
    {
      "cell_type": "code",
      "metadata": {
        "id": "rDiniPD1q8CS",
        "colab_type": "code",
        "colab": {
          "base_uri": "https://localhost:8080/",
          "height": 252
        },
        "outputId": "c1846b24-13a6-42c6-b5d6-884d7712dd3a"
      },
      "source": [
        "transform = transforms.Compose(\n",
        "    [transforms.ToTensor()])\n",
        "\n",
        "trainset = torchvision.datasets.MNIST(root='./data', train=True,\n",
        "                                        download=True, transform=transform)\n",
        "trainloader = torch.utils.data.DataLoader(trainset, batch_size=100,\n",
        "                                          shuffle=True, num_workers=2)\n",
        "\n",
        "testset = torchvision.datasets.MNIST(root='./data', train=False,\n",
        "                                       download=True, transform=transform)\n",
        "testloader = torch.utils.data.DataLoader(testset, batch_size=400,\n",
        "                                         shuffle=False, num_workers=2)\n",
        "\n",
        "classes = ('0', '1', '2', '3', '4', '5', '6', '7', '8', '9')"
      ],
      "execution_count": 3,
      "outputs": [
        {
          "output_type": "stream",
          "text": [
            "  0%|          | 0/9912422 [00:00<?, ?it/s]"
          ],
          "name": "stderr"
        },
        {
          "output_type": "stream",
          "text": [
            "Downloading http://yann.lecun.com/exdb/mnist/train-images-idx3-ubyte.gz to ./data/MNIST/raw/train-images-idx3-ubyte.gz\n"
          ],
          "name": "stdout"
        },
        {
          "output_type": "stream",
          "text": [
            "9920512it [00:03, 2676113.94it/s]                             \n"
          ],
          "name": "stderr"
        },
        {
          "output_type": "stream",
          "text": [
            "Extracting ./data/MNIST/raw/train-images-idx3-ubyte.gz\n"
          ],
          "name": "stdout"
        },
        {
          "output_type": "stream",
          "text": [
            "32768it [00:00, 371214.84it/s]\n",
            "0it [00:00, ?it/s]"
          ],
          "name": "stderr"
        },
        {
          "output_type": "stream",
          "text": [
            "Downloading http://yann.lecun.com/exdb/mnist/train-labels-idx1-ubyte.gz to ./data/MNIST/raw/train-labels-idx1-ubyte.gz\n",
            "Extracting ./data/MNIST/raw/train-labels-idx1-ubyte.gz\n",
            "Downloading http://yann.lecun.com/exdb/mnist/t10k-images-idx3-ubyte.gz to ./data/MNIST/raw/t10k-images-idx3-ubyte.gz\n"
          ],
          "name": "stdout"
        },
        {
          "output_type": "stream",
          "text": [
            "1654784it [00:00, 2508075.35it/s]                            \n",
            "8192it [00:00, 158931.59it/s]\n"
          ],
          "name": "stderr"
        },
        {
          "output_type": "stream",
          "text": [
            "Extracting ./data/MNIST/raw/t10k-images-idx3-ubyte.gz\n",
            "Downloading http://yann.lecun.com/exdb/mnist/t10k-labels-idx1-ubyte.gz to ./data/MNIST/raw/t10k-labels-idx1-ubyte.gz\n",
            "Extracting ./data/MNIST/raw/t10k-labels-idx1-ubyte.gz\n",
            "Processing...\n",
            "Done!\n"
          ],
          "name": "stdout"
        }
      ]
    },
    {
      "cell_type": "code",
      "metadata": {
        "id": "4V52GZUiq8CZ",
        "colab_type": "code",
        "outputId": "803763b7-aac7-405f-d162-32c5de75fead",
        "colab": {
          "base_uri": "https://localhost:8080/",
          "height": 322
        }
      },
      "source": [
        "import matplotlib.pyplot as plt\n",
        "import numpy as np\n",
        "\n",
        "# functions to show an image\n",
        "\n",
        "\n",
        "def imshow(img):\n",
        "    print(img.shape)\n",
        "    npimg = img.numpy()\n",
        "    plt.imshow(np.transpose(npimg, (1, 2, 0)), cmap=\"gray\")\n",
        "    plt.show()\n",
        "\n",
        "\n",
        "# get some random training images\n",
        "dataiter = iter(trainloader)\n",
        "images, labels = dataiter.next()\n",
        "\n",
        "# show images\n",
        "imshow(torchvision.utils.make_grid(images))\n",
        "# print labels\n",
        "print(' '.join('%5s' % classes[labels[j]] for j in range(100)))"
      ],
      "execution_count": 4,
      "outputs": [
        {
          "output_type": "stream",
          "text": [
            "torch.Size([3, 392, 242])\n"
          ],
          "name": "stdout"
        },
        {
          "output_type": "display_data",
          "data": {
            "image/png": "[encoded data removed]",
            "text/plain": [
              "<Figure size 432x288 with 1 Axes>"
            ]
          },
          "metadata": {
            "tags": []
          }
        },
        {
          "output_type": "stream",
          "text": [
            "    3     4     4     1     6     9     8     4     8     1     6     6     9     2     2     7     9     7     1     3     2     0     3     3     5     5     3     7     1     6     4     1     5     0     0     4     1     9     7     6     0     3     6     7     9     1     2     6     5     1     6     7     7     0     3     7     6     1     8     6     0     5     1     1     6     2     3     2     9     7     7     5     1     5     6     9     5     8     2     6     6     5     7     7     1     1     1     4     8     5     6     7     2     8     5     4     6     1     0     6\n"
          ],
          "name": "stdout"
        }
      ]
    },
    {
      "cell_type": "code",
      "metadata": {
        "id": "RL2H46Evq8Cf",
        "colab_type": "code",
        "outputId": "c61c68c1-9a75-44b2-bc76-fc5d2a169efb",
        "colab": {
          "base_uri": "https://localhost:8080/",
          "height": 286
        }
      },
      "source": [
        "import torch.nn as nn\n",
        "import torch.nn.functional as F\n",
        "\n",
        "\n",
        "class AlexNet(nn.Module):\n",
        "    def __init__(self):\n",
        "        super(AlexNet, self).__init__()\n",
        "        self.conv1 = nn.Conv2d(1, 7, 4, padding=2)\n",
        "        self.relu = nn.ReLU()\n",
        "        self.pool = nn.MaxPool2d(3, stride=1)\n",
        "        self.conv2 = nn.Conv2d(7, 11, 3)\n",
        "        self.conv3 = nn.Conv2d(11, 15, 3)\n",
        "        self.conv4 = nn.Conv2d(15, 15, 3)\n",
        "        self.conv5 = nn.Conv2d(15, 11, 3)\n",
        "        self.fc1 = nn.Linear(11 * 15*15, 150)\n",
        "        self.fc2 = nn.Linear(150, 150)\n",
        "        self.fc3 = nn.Linear(150, 10)\n",
        "        self.dropout = nn.Dropout(p=0.2)\n",
        "        self.norm = nn.LocalResponseNorm(3, alpha=0.0001, beta=0.75, k=2.0)\n",
        "        self.smax = nn.Softmax()\n",
        "\n",
        "    def forward(self, x):\n",
        "        x = self.pool(self.relu(self.norm(self.conv1(x))))\n",
        "        x = self.pool(self.relu(self.norm(self.conv2(x))))\n",
        "        x = self.relu(self.conv3(x))\n",
        "        x = self.relu(self.conv4(x))\n",
        "        x = self.pool(self.relu(self.conv5(x)))\n",
        "        x = x.view(-1, 11*15*15)\n",
        "        x = self.dropout(self.relu(self.fc1(x)))\n",
        "        x = self.dropout(self.relu(self.fc2(x)))\n",
        "        x = self.fc3(x)\n",
        "        x = self.smax(x)\n",
        "        return x\n",
        "\n",
        "\n",
        "model = AlexNet()\n",
        "device = torch.device(\"cuda:0\" if torch.cuda.is_available() else \"cpu\")\n",
        "\n",
        "# Assuming that we are on a CUDA machine, this should print a CUDA device:\n",
        "\n",
        "print(device)\n",
        "model.to(device)"
      ],
      "execution_count": 25,
      "outputs": [
        {
          "output_type": "stream",
          "text": [
            "cuda:0\n"
          ],
          "name": "stdout"
        },
        {
          "output_type": "execute_result",
          "data": {
            "text/plain": [
              "LeNet(\n",
              "  (conv1): Conv2d(1, 7, kernel_size=(4, 4), stride=(1, 1), padding=(2, 2))\n",
              "  (relu): ReLU()\n",
              "  (pool): MaxPool2d(kernel_size=3, stride=1, padding=0, dilation=1, ceil_mode=False)\n",
              "  (conv2): Conv2d(7, 11, kernel_size=(3, 3), stride=(1, 1))\n",
              "  (conv3): Conv2d(11, 15, kernel_size=(3, 3), stride=(1, 1))\n",
              "  (conv4): Conv2d(15, 15, kernel_size=(3, 3), stride=(1, 1))\n",
              "  (conv5): Conv2d(15, 11, kernel_size=(3, 3), stride=(1, 1))\n",
              "  (fc1): Linear(in_features=2475, out_features=150, bias=True)\n",
              "  (fc2): Linear(in_features=150, out_features=150, bias=True)\n",
              "  (fc3): Linear(in_features=150, out_features=10, bias=True)\n",
              "  (dropout): Dropout(p=0.2)\n",
              "  (norm): LocalResponseNorm(3, alpha=0.0001, beta=0.75, k=2.0)\n",
              "  (smax): Softmax()\n",
              ")"
            ]
          },
          "metadata": {
            "tags": []
          },
          "execution_count": 25
        }
      ]
    },
    {
      "cell_type": "code",
      "metadata": {
        "id": "MLvPLb0sq8Cm",
        "colab_type": "code",
        "colab": {}
      },
      "source": [
        "import torch.optim as optim\n",
        "criterion = nn.CrossEntropyLoss()\n",
        "optimizer = torch.optim.Adam(model.parameters(),lr=0.0001, weight_decay=0.0005)"
      ],
      "execution_count": 0,
      "outputs": []
    },
    {
      "cell_type": "code",
      "metadata": {
        "id": "wVa_8kRaq8Ct",
        "colab_type": "code",
        "outputId": "8441528a-e783-4854-b9cd-2e42842d1a6b",
        "colab": {
          "base_uri": "https://localhost:8080/",
          "height": 222
        }
      },
      "source": [
        "for epoch in range(3):\n",
        "  running_loss = 0.0\n",
        "  i=0;\n",
        "  for data in trainloader:\n",
        "    x,y=data[0].to(device), data[1].to(device)\n",
        "    output=model(x)\n",
        "    loss=criterion(output,y)\n",
        "    optimizer.zero_grad()\n",
        "    loss.backward()\n",
        "    optimizer.step()\n",
        "    \n",
        "    running_loss += loss.item()\n",
        "    if i % 200 == 199:    # print every 200 mini-batches\n",
        "      print('[%d, %5d] loss: %.3f' %\n",
        "      (epoch + 1, i + 1, running_loss / 199))\n",
        "      running_loss = 0.0\n",
        "            \n",
        "    i=i+1\n",
        "print('Finished Training')\n",
        "\n"
      ],
      "execution_count": 31,
      "outputs": [
        {
          "output_type": "stream",
          "text": [
            "/usr/local/lib/python3.6/dist-packages/ipykernel_launcher.py:32: UserWarning: Implicit dimension choice for softmax has been deprecated. Change the call to include dim=X as an argument.\n"
          ],
          "name": "stderr"
        },
        {
          "output_type": "stream",
          "text": [
            "[1,   200] loss: 1.514\n",
            "[1,   400] loss: 1.507\n",
            "[1,   600] loss: 1.505\n",
            "[2,   200] loss: 1.503\n",
            "[2,   400] loss: 1.503\n",
            "[2,   600] loss: 1.502\n",
            "[3,   200] loss: 1.500\n",
            "[3,   400] loss: 1.500\n",
            "[3,   600] loss: 1.499\n",
            "Finished Training\n"
          ],
          "name": "stdout"
        }
      ]
    },
    {
      "cell_type": "markdown",
      "metadata": {
        "id": "Mkt6Wa0wq8C4",
        "colab_type": "text"
      },
      "source": [
        "**Testing...**\n",
        "\n"
      ]
    },
    {
      "cell_type": "code",
      "metadata": {
        "id": "XeqxI83Mq8C6",
        "colab_type": "code",
        "outputId": "b709d23d-543d-4b5d-f04c-07ab7ec15c07",
        "colab": {
          "base_uri": "https://localhost:8080/",
          "height": 322
        }
      },
      "source": [
        "dataiter = iter(testloader)\n",
        "data = dataiter.next()\n",
        "images, labels = data[0].to(device), data[1].to(device)\n",
        "\n",
        "# print images\n",
        "imshow(torchvision.utils.make_grid(images.cpu()))\n",
        "print('GroundTruth: ', ' '.join('%5s' % classes[labels[j]] for j in range(400)))"
      ],
      "execution_count": 32,
      "outputs": [
        {
          "output_type": "stream",
          "text": [
            "torch.Size([3, 1502, 242])\n"
          ],
          "name": "stdout"
        },
        {
          "output_type": "display_data",
          "data": {
            "image/png": "[encoded data removed]",
            "text/plain": [
              "<Figure size 432x288 with 1 Axes>"
            ]
          },
          "metadata": {
            "tags": []
          }
        },
        {
          "output_type": "stream",
          "text": [
            "GroundTruth:      7     2     1     0     4     1     4     9     5     9     0     6     9     0     1     5     9     7     3     4     9     6     6     5     4     0     7     4     0     1     3     1     3     4     7     2     7     1     2     1     1     7     4     2     3     5     1     2     4     4     6     3     5     5     6     0     4     1     9     5     7     8     9     3     7     4     6     4     3     0     7     0     2     9     1     7     3     2     9     7     7     6     2     7     8     4     7     3     6     1     3     6     9     3     1     4     1     7     6     9     6     0     5     4     9     9     2     1     9     4     8     7     3     9     7     4     4     4     9     2     5     4     7     6     7     9     0     5     8     5     6     6     5     7     8     1     0     1     6     4     6     7     3     1     7     1     8     2     0     2     9     9     5     5     1     5     6     0     3     4     4     6     5     4     6     5     4     5     1     4     4     7     2     3     2     7     1     8     1     8     1     8     5     0     8     9     2     5     0     1     1     1     0     9     0     3     1     6     4     2     3     6     1     1     1     3     9     5     2     9     4     5     9     3     9     0     3     6     5     5     7     2     2     7     1     2     8     4     1     7     3     3     8     8     7     9     2     2     4     1     5     9     8     7     2     3     0     4     4     2     4     1     9     5     7     7     2     8     2     6     8     5     7     7     9     1     8     1     8     0     3     0     1     9     9     4     1     8     2     1     2     9     7     5     9     2     6     4     1     5     8     2     9     2     0     4     0     0     2     8     4     7     1     2     4     0     2     7     4     3     3     0     0     3     1     9     6     5     2     5     9     2     9     3     0     4     2     0     7     1     1     2     1     5     3     3     9     7     8     6     5     6     1     3     8     1     0     5     1     3     1     5     5     6     1     8     5     1     7     9     4     6     2     2     5     0     6     5     6     3     7     2     0     8     8     5     4     1     1     4     0     3     3     7     6     1     6     2     1     9     2     8     6     1     9     5     2     5     4     4\n"
          ],
          "name": "stdout"
        }
      ]
    },
    {
      "cell_type": "code",
      "metadata": {
        "id": "Zj9kVGI8q8DE",
        "colab_type": "code",
        "outputId": "5031f65d-49f0-41f0-db3d-04c94c314e9f",
        "colab": {
          "base_uri": "https://localhost:8080/",
          "height": 54
        }
      },
      "source": [
        "outputs = model(images)"
      ],
      "execution_count": 33,
      "outputs": [
        {
          "output_type": "stream",
          "text": [
            "/usr/local/lib/python3.6/dist-packages/ipykernel_launcher.py:32: UserWarning: Implicit dimension choice for softmax has been deprecated. Change the call to include dim=X as an argument.\n"
          ],
          "name": "stderr"
        }
      ]
    },
    {
      "cell_type": "code",
      "metadata": {
        "id": "afXXCA6Cq8DL",
        "colab_type": "code",
        "outputId": "158f5c7e-dc9d-43d0-e772-eb02d640c68c",
        "colab": {
          "base_uri": "https://localhost:8080/",
          "height": 54
        }
      },
      "source": [
        "_, predicted = torch.max(outputs, 1)\n",
        "\n",
        "print('Predicted: ', ' '.join('%5s' % classes[predicted[j]]\n",
        "                              for j in range(400)))"
      ],
      "execution_count": 34,
      "outputs": [
        {
          "output_type": "stream",
          "text": [
            "Predicted:      7     2     1     0     4     1     4     9     5     9     0     6     9     0     1     5     9     7     3     4     9     6     6     5     4     0     7     4     0     1     3     1     3     6     7     2     7     1     2     1     1     7     4     2     3     5     1     2     4     4     6     3     5     5     6     0     4     1     9     5     7     8     5     3     7     4     6     4     3     0     7     0     2     9     1     7     3     2     9     7     7     6     2     7     8     4     7     3     6     1     3     6     9     3     1     4     1     7     6     9     6     0     5     4     9     9     2     1     9     4     8     7     3     9     7     4     4     4     9     2     5     4     7     6     7     9     0     5     8     5     6     6     5     7     8     1     0     1     6     4     6     7     3     1     7     1     8     2     0     2     9     9     5     5     1     5     6     0     3     4     4     6     5     4     6     5     4     5     1     4     4     7     2     3     2     7     1     8     1     8     1     8     5     0     8     4     2     5     0     1     1     1     0     9     0     3     1     6     4     2     3     6     1     1     1     3     9     5     2     4     4     5     9     3     9     0     3     6     5     5     7     2     2     7     1     2     8     4     1     7     3     3     8     8     7     9     2     2     4     1     5     8     8     7     2     3     0     4     4     2     9     1     9     5     7     7     2     8     2     0     8     5     7     7     9     1     8     1     8     0     3     0     1     9     9     4     1     8     2     1     2     9     7     5     9     2     6     4     1     5     8     2     9     2     0     4     0     0     2     8     4     7     1     2     4     0     2     7     4     3     3     0     0     3     1     9     6     5     3     5     9     7     9     3     0     4     2     0     7     1     1     2     1     5     3     3     9     7     8     6     5     6     1     3     8     1     0     5     1     3     1     5     5     6     1     8     5     1     7     9     4     6     2     2     5     0     6     5     6     3     7     2     0     8     8     5     4     1     1     4     0     3     3     7     6     1     6     2     1     9     2     8     6     1     9     5     2     5     4     4\n"
          ],
          "name": "stdout"
        }
      ]
    },
    {
      "cell_type": "code",
      "metadata": {
        "id": "LnU94796q8DS",
        "colab_type": "code",
        "outputId": "30af48df-af41-41f0-de11-6b736ffa9eb4",
        "colab": {
          "base_uri": "https://localhost:8080/",
          "height": 70
        }
      },
      "source": [
        "correct = 0\n",
        "total = 0\n",
        "with torch.no_grad():\n",
        "    for data in testloader:\n",
        "        images, labels = data[0].to(device), data[1].to(device)\n",
        "        outputs = model(images)\n",
        "        _, predicted = torch.max(outputs.data, 1)\n",
        "        total += labels.size(0)\n",
        "        correct += (predicted == labels).sum().item()\n",
        "\n",
        "print('Accuracy of the network on the 10000 test images: %d %%' % (\n",
        "    100 * correct / total))"
      ],
      "execution_count": 35,
      "outputs": [
        {
          "output_type": "stream",
          "text": [
            "/usr/local/lib/python3.6/dist-packages/ipykernel_launcher.py:32: UserWarning: Implicit dimension choice for softmax has been deprecated. Change the call to include dim=X as an argument.\n"
          ],
          "name": "stderr"
        },
        {
          "output_type": "stream",
          "text": [
            "Accuracy of the network on the 10000 test images: 97 %\n"
          ],
          "name": "stdout"
        }
      ]
    },
    {
      "cell_type": "code",
      "metadata": {
        "id": "4ZoGRHZ0q8DY",
        "colab_type": "code",
        "outputId": "aade79b7-3ea6-4010-e377-249e5569b42d",
        "colab": {
          "base_uri": "https://localhost:8080/",
          "height": 222
        }
      },
      "source": [
        "class_correct = list(0. for i in range(10))\n",
        "class_total = list(0. for i in range(10))\n",
        "with torch.no_grad():\n",
        "    for data in testloader:\n",
        "        images, labels = data[0].to(device), data[1].to(device)\n",
        "        outputs = model(images)\n",
        "        _, predicted = torch.max(outputs, 1)\n",
        "        c = (predicted == labels).squeeze()\n",
        "        for i in range(400):\n",
        "            label = labels[i]\n",
        "            class_correct[label] += c[i].item()\n",
        "            class_total[label] += 1\n",
        "\n",
        "\n",
        "for i in range(10):\n",
        "    print('Accuracy of %5s : %2d %%' % (\n",
        "        classes[i], 100 * class_correct[i] / class_total[i]))"
      ],
      "execution_count": 36,
      "outputs": [
        {
          "output_type": "stream",
          "text": [
            "/usr/local/lib/python3.6/dist-packages/ipykernel_launcher.py:32: UserWarning: Implicit dimension choice for softmax has been deprecated. Change the call to include dim=X as an argument.\n"
          ],
          "name": "stderr"
        },
        {
          "output_type": "stream",
          "text": [
            "Accuracy of     0 : 98 %\n",
            "Accuracy of     1 : 98 %\n",
            "Accuracy of     2 : 97 %\n",
            "Accuracy of     3 : 97 %\n",
            "Accuracy of     4 : 96 %\n",
            "Accuracy of     5 : 97 %\n",
            "Accuracy of     6 : 96 %\n",
            "Accuracy of     7 : 96 %\n",
            "Accuracy of     8 : 95 %\n",
            "Accuracy of     9 : 95 %\n"
          ],
          "name": "stdout"
        }
      ]
    },
    {
      "cell_type": "code",
      "metadata": {
        "id": "JMuZDFcTmIhP",
        "colab_type": "code",
        "colab": {}
      },
      "source": [
        ""
      ],
      "execution_count": 0,
      "outputs": []
    }
  ]
}
